{
  "nbformat": 4,
  "nbformat_minor": 0,
  "metadata": {
    "colab": {
      "provenance": [],
      "include_colab_link": true
    },
    "kernelspec": {
      "name": "python3",
      "display_name": "Python 3"
    },
    "language_info": {
      "name": "python"
    }
  },
  "cells": [
    {
      "cell_type": "markdown",
      "metadata": {
        "id": "view-in-github",
        "colab_type": "text"
      },
      "source": [
        "<a href=\"https://colab.research.google.com/github/PosgradoMNA/actividades-del-projecto-equipo39/blob/main/ACTIVIDAD_SEMANAL_4.ipynb\" target=\"_parent\"><img src=\"https://colab.research.google.com/assets/colab-badge.svg\" alt=\"Open In Colab\"/></a>"
      ]
    },
    {
      "cell_type": "markdown",
      "source": [
        "# ACTIVIDAD SEMANAL 4\n",
        "\n",
        "\n",
        "*   JUAN FELIPE TORO SALGADO --- MATRICULA: A01794247\n",
        "*   ALEJANDRA ISLAS ------MATRICULA:A01794452\n",
        "*   PROFESOR:Jobish Vallikavungal Devassia \n",
        "11 de Octubre del 2022\n",
        "\n"
      ],
      "metadata": {
        "id": "jWZtHgCgX8e1"
      }
    },
    {
      "cell_type": "code",
      "execution_count": 7,
      "metadata": {
        "id": "t946n5VNxdJK"
      },
      "outputs": [],
      "source": [
        "import pandas as pd \n",
        "import numpy as np\n",
        "from sklearn.decomposition import PCA\n",
        "import matplotlib as mpl\n",
        "import matplotlib.pyplot as plt\n",
        "import seaborn as sns\n",
        "from sklearn.preprocessing import StandardScaler\n",
        "datos=\"https://raw.githubusercontent.com/PosgradoMNA/Actividades_Aprendizaje-/main/default%20of%20credit%20card%20clients.csv\""
      ]
    },
    {
      "cell_type": "markdown",
      "source": [
        "SE REALIZA LA LECTURA Y LIMPIEZA DE DATOS"
      ],
      "metadata": {
        "id": "j0kViKjDf04N"
      }
    },
    {
      "cell_type": "code",
      "source": [
        "#Primero se importan los datos desde el raw data y después se genera una copia en la variable df.\n",
        "datosdf= pd.read_csv(datos)\n",
        "df = datosdf.copy()\n"
      ],
      "metadata": {
        "id": "oJ-Y1frIxy2Y"
      },
      "execution_count": 8,
      "outputs": []
    },
    {
      "cell_type": "code",
      "source": [
        "#Aqui es donde se hace la limpieza de los datos vacíos.\n",
        "df.X5.fillna(df.X5.mean(), inplace=True)\n",
        "df.dropna(inplace = True)\n",
        "df.boxplot()"
      ],
      "metadata": {
        "id": "pxtdXonKG4fI",
        "outputId": "e4cc3656-f712-4362-b7a6-a7c5ed42767e",
        "colab": {
          "base_uri": "https://localhost:8080/",
          "height": 293
        }
      },
      "execution_count": 9,
      "outputs": [
        {
          "output_type": "execute_result",
          "data": {
            "text/plain": [
              "<matplotlib.axes._subplots.AxesSubplot at 0x7f8f8903ee10>"
            ]
          },
          "metadata": {},
          "execution_count": 9
        },
        {
          "output_type": "display_data",
          "data": {
            "text/plain": [
              "<Figure size 432x288 with 1 Axes>"
            ],
            "image/png": "[encoded data removed]"
          },
          "metadata": {
            "needs_background": "light"
          }
        }
      ]
    },
    {
      "cell_type": "markdown",
      "source": [
        "SE  SELECCIONAN LOS VALORES SON NUMERICOS Y NO CATEGORICOS DEBIDO A ESTO SE TRABAJN LAS COLMNAS SELECCIONADAS"
      ],
      "metadata": {
        "id": "8t6qXiuRgipe"
      }
    },
    {
      "cell_type": "code",
      "source": [
        "#Se especifican exactamente los atributos que tienen variables tipo numericas. \n",
        "ndf = df[['X1','X5','X12','X13','X14','X15','X16','X17','X18','X19','X20','X21','X22','X23']]\n"
      ],
      "metadata": {
        "id": "xFky1k-NyS6Q"
      },
      "execution_count": null,
      "outputs": []
    },
    {
      "cell_type": "markdown",
      "source": [
        "Paso 1: Determine el número mínimo de componentes principales que representan la mayor parte de la variación en sus datos"
      ],
      "metadata": {
        "id": "SSHCE0fGZ-NU"
      }
    },
    {
      "cell_type": "markdown",
      "source": [
        "SE REALIZA LA NORMALIZACION"
      ],
      "metadata": {
        "id": "6yEXvPNjg_p4"
      }
    },
    {
      "cell_type": "code",
      "source": [
        "#Se normalizan los datos numericos desde el inicio para no tener problema con ello.\n",
        "ndf = pd.DataFrame(StandardScaler().fit_transform(ndf))\n",
        "ndf.columns = ['X1','X5','X12','X13','X14','X15','X16','X17','X18','X19','X20','X21','X22','X23']\n"
      ],
      "metadata": {
        "id": "MiIIUlzoNmPg"
      },
      "execution_count": null,
      "outputs": []
    },
    {
      "cell_type": "markdown",
      "source": [
        "SE REALIZA EL PCA"
      ],
      "metadata": {
        "id": "ODlbX8EPhTcb"
      }
    },
    {
      "cell_type": "code",
      "source": [
        "pcs = PCA(n_components=14)\n",
        "\n",
        "pcs.fit(ndf[['X1','X5','X12','X13','X14','X15','X16','X17','X18','X19','X20','X21','X22','X23']])\n",
        "\n",
        "pcsSummary = pd.DataFrame({'Standard deviation': np.sqrt(pcs.explained_variance_),\n",
        "                          'Proportion of variance': pcs.explained_variance_ratio_,\n",
        "                          'Cumulative proportion': np.cumsum(pcs.explained_variance_ratio_) \n",
        "                          }\n",
        "                          )\n",
        "pcsSummary"
      ],
      "metadata": {
        "colab": {
          "base_uri": "https://localhost:8080/",
          "height": 488
        },
        "id": "DqiK5pCCQOWi",
        "outputId": "44c82530-9106-42aa-a6d0-ccfd91024d21"
      },
      "execution_count": null,
      "outputs": [
        {
          "output_type": "execute_result",
          "data": {
            "text/plain": [
              "    Standard deviation  Proportion of variance  Cumulative proportion\n",
              "0             2.432957                0.422792               0.422792\n",
              "1             1.310005                0.122575               0.545367\n",
              "2             1.022245                0.074639               0.620006\n",
              "3             0.961779                0.066071               0.686077\n",
              "4             0.940055                0.063120               0.749196\n",
              "5             0.934203                0.062336               0.811533\n",
              "6             0.882949                0.055684               0.867216\n",
              "7             0.852433                0.051901               0.919118\n",
              "8             0.840994                0.050518               0.969635\n",
              "9             0.514242                0.018888               0.988524\n",
              "10            0.266499                0.005073               0.993596\n",
              "11            0.202647                0.002933               0.996530\n",
              "12            0.159195                0.001810               0.998340\n",
              "13            0.152459                0.001660               1.000000"
            ],
            "text/html": [
              "\n",
              "  <div id=\"df-8a2a1323-5202-4353-a819-c3b174da160d\">\n",
              "    <div class=\"colab-df-container\">\n",
              "      <div>\n",
              "<style scoped>\n",
              "    .dataframe tbody tr th:only-of-type {\n",
              "        vertical-align: middle;\n",
              "    }\n",
              "\n",
              "    .dataframe tbody tr th {\n",
              "        vertical-align: top;\n",
              "    }\n",
              "\n",
              "    .dataframe thead th {\n",
              "        text-align: right;\n",
              "    }\n",
              "</style>\n",
              "<table border=\"1\" class=\"dataframe\">\n",
              "  <thead>\n",
              "    <tr style=\"text-align: right;\">\n",
              "      <th></th>\n",
              "      <th>Standard deviation</th>\n",
              "      <th>Proportion of variance</th>\n",
              "      <th>Cumulative proportion</th>\n",
              "    </tr>\n",
              "  </thead>\n",
              "  <tbody>\n",
              "    <tr>\n",
              "      <th>0</th>\n",
              "      <td>2.432957</td>\n",
              "      <td>0.422792</td>\n",
              "      <td>0.422792</td>\n",
              "    </tr>\n",
              "    <tr>\n",
              "      <th>1</th>\n",
              "      <td>1.310005</td>\n",
              "      <td>0.122575</td>\n",
              "      <td>0.545367</td>\n",
              "    </tr>\n",
              "    <tr>\n",
              "      <th>2</th>\n",
              "      <td>1.022245</td>\n",
              "      <td>0.074639</td>\n",
              "      <td>0.620006</td>\n",
              "    </tr>\n",
              "    <tr>\n",
              "      <th>3</th>\n",
              "      <td>0.961779</td>\n",
              "      <td>0.066071</td>\n",
              "      <td>0.686077</td>\n",
              "    </tr>\n",
              "    <tr>\n",
              "      <th>4</th>\n",
              "      <td>0.940055</td>\n",
              "      <td>0.063120</td>\n",
              "      <td>0.749196</td>\n",
              "    </tr>\n",
              "    <tr>\n",
              "      <th>5</th>\n",
              "      <td>0.934203</td>\n",
              "      <td>0.062336</td>\n",
              "      <td>0.811533</td>\n",
              "    </tr>\n",
              "    <tr>\n",
              "      <th>6</th>\n",
              "      <td>0.882949</td>\n",
              "      <td>0.055684</td>\n",
              "      <td>0.867216</td>\n",
              "    </tr>\n",
              "    <tr>\n",
              "      <th>7</th>\n",
              "      <td>0.852433</td>\n",
              "      <td>0.051901</td>\n",
              "      <td>0.919118</td>\n",
              "    </tr>\n",
              "    <tr>\n",
              "      <th>8</th>\n",
              "      <td>0.840994</td>\n",
              "      <td>0.050518</td>\n",
              "      <td>0.969635</td>\n",
              "    </tr>\n",
              "    <tr>\n",
              "      <th>9</th>\n",
              "      <td>0.514242</td>\n",
              "      <td>0.018888</td>\n",
              "      <td>0.988524</td>\n",
              "    </tr>\n",
              "    <tr>\n",
              "      <th>10</th>\n",
              "      <td>0.266499</td>\n",
              "      <td>0.005073</td>\n",
              "      <td>0.993596</td>\n",
              "    </tr>\n",
              "    <tr>\n",
              "      <th>11</th>\n",
              "      <td>0.202647</td>\n",
              "      <td>0.002933</td>\n",
              "      <td>0.996530</td>\n",
              "    </tr>\n",
              "    <tr>\n",
              "      <th>12</th>\n",
              "      <td>0.159195</td>\n",
              "      <td>0.001810</td>\n",
              "      <td>0.998340</td>\n",
              "    </tr>\n",
              "    <tr>\n",
              "      <th>13</th>\n",
              "      <td>0.152459</td>\n",
              "      <td>0.001660</td>\n",
              "      <td>1.000000</td>\n",
              "    </tr>\n",
              "  </tbody>\n",
              "</table>\n",
              "</div>\n",
              "      <button class=\"colab-df-convert\" onclick=\"convertToInteractive('df-8a2a1323-5202-4353-a819-c3b174da160d')\"\n",
              "              title=\"Convert this dataframe to an interactive table.\"\n",
              "              style=\"display:none;\">\n",
              "        \n",
              "  <svg xmlns=\"http://www.w3.org/2000/svg\" height=\"24px\"viewBox=\"0 0 24 24\"\n",
              "       width=\"24px\">\n",
              "    <path d=\"M0 0h24v24H0V0z\" fill=\"none\"/>\n",
              "    <path d=\"M18.56 5.44l.94 2.06.94-2.06 2.06-.94-2.06-.94-.94-2.06-.94 2.06-2.06.94zm-11 1L8.5 8.5l.94-2.06 2.06-.94-2.06-.94L8.5 2.5l-.94 2.06-2.06.94zm10 10l.94 2.06.94-2.06 2.06-.94-2.06-.94-.94-2.06-.94 2.06-2.06.94z\"/><path d=\"M17.41 7.96l-1.37-1.37c-.4-.4-.92-.59-1.43-.59-.52 0-1.04.2-1.43.59L10.3 9.45l-7.72 7.72c-.78.78-.78 2.05 0 2.83L4 21.41c.39.39.9.59 1.41.59.51 0 1.02-.2 1.41-.59l7.78-7.78 2.81-2.81c.8-.78.8-2.07 0-2.86zM5.41 20L4 18.59l7.72-7.72 1.47 1.35L5.41 20z\"/>\n",
              "  </svg>\n",
              "      </button>\n",
              "      \n",
              "  <style>\n",
              "    .colab-df-container {\n",
              "      display:flex;\n",
              "      flex-wrap:wrap;\n",
              "      gap: 12px;\n",
              "    }\n",
              "\n",
              "    .colab-df-convert {\n",
              "      background-color: #E8F0FE;\n",
              "      border: none;\n",
              "      border-radius: 50%;\n",
              "      cursor: pointer;\n",
              "      display: none;\n",
              "      fill: #1967D2;\n",
              "      height: 32px;\n",
              "      padding: 0 0 0 0;\n",
              "      width: 32px;\n",
              "    }\n",
              "\n",
              "    .colab-df-convert:hover {\n",
              "      background-color: #E2EBFA;\n",
              "      box-shadow: 0px 1px 2px rgba(60, 64, 67, 0.3), 0px 1px 3px 1px rgba(60, 64, 67, 0.15);\n",
              "      fill: #174EA6;\n",
              "    }\n",
              "\n",
              "    [theme=dark] .colab-df-convert {\n",
              "      background-color: #3B4455;\n",
              "      fill: #D2E3FC;\n",
              "    }\n",
              "\n",
              "    [theme=dark] .colab-df-convert:hover {\n",
              "      background-color: #434B5C;\n",
              "      box-shadow: 0px 1px 3px 1px rgba(0, 0, 0, 0.15);\n",
              "      filter: drop-shadow(0px 1px 2px rgba(0, 0, 0, 0.3));\n",
              "      fill: #FFFFFF;\n",
              "    }\n",
              "  </style>\n",
              "\n",
              "      <script>\n",
              "        const buttonEl =\n",
              "          document.querySelector('#df-8a2a1323-5202-4353-a819-c3b174da160d button.colab-df-convert');\n",
              "        buttonEl.style.display =\n",
              "          google.colab.kernel.accessAllowed ? 'block' : 'none';\n",
              "\n",
              "        async function convertToInteractive(key) {\n",
              "          const element = document.querySelector('#df-8a2a1323-5202-4353-a819-c3b174da160d');\n",
              "          const dataTable =\n",
              "            await google.colab.kernel.invokeFunction('convertToInteractive',\n",
              "                                                     [key], {});\n",
              "          if (!dataTable) return;\n",
              "\n",
              "          const docLinkHtml = 'Like what you see? Visit the ' +\n",
              "            '<a target=\"_blank\" href=https://colab.research.google.com/notebooks/data_table.ipynb>data table notebook</a>'\n",
              "            + ' to learn more about interactive tables.';\n",
              "          element.innerHTML = '';\n",
              "          dataTable['output_type'] = 'display_data';\n",
              "          await google.colab.output.renderOutput(dataTable, element);\n",
              "          const docLink = document.createElement('div');\n",
              "          docLink.innerHTML = docLinkHtml;\n",
              "          element.appendChild(docLink);\n",
              "        }\n",
              "      </script>\n",
              "    </div>\n",
              "  </div>\n",
              "  "
            ]
          },
          "metadata": {},
          "execution_count": 6
        }
      ]
    },
    {
      "cell_type": "code",
      "source": [
        "pcsSummary1 = pcsSummary.transpose()\n",
        "pcsSummary1.round(4)\n"
      ],
      "metadata": {
        "colab": {
          "base_uri": "https://localhost:8080/",
          "height": 143
        },
        "id": "Y61kwM-rUZkR",
        "outputId": "c1c1420a-ab14-4d42-ae43-41a9dc758ddb"
      },
      "execution_count": null,
      "outputs": [
        {
          "output_type": "execute_result",
          "data": {
            "text/plain": [
              "                            0       1       2       3       4       5   \\\n",
              "Standard deviation      2.4330  1.3100  1.0222  0.9618  0.9401  0.9342   \n",
              "Proportion of variance  0.4228  0.1226  0.0746  0.0661  0.0631  0.0623   \n",
              "Cumulative proportion   0.4228  0.5454  0.6200  0.6861  0.7492  0.8115   \n",
              "\n",
              "                            6       7       8       9       10      11  \\\n",
              "Standard deviation      0.8829  0.8524  0.8410  0.5142  0.2665  0.2026   \n",
              "Proportion of variance  0.0557  0.0519  0.0505  0.0189  0.0051  0.0029   \n",
              "Cumulative proportion   0.8672  0.9191  0.9696  0.9885  0.9936  0.9965   \n",
              "\n",
              "                            12      13  \n",
              "Standard deviation      0.1592  0.1525  \n",
              "Proportion of variance  0.0018  0.0017  \n",
              "Cumulative proportion   0.9983  1.0000  "
            ],
            "text/html": [
              "\n",
              "  <div id=\"df-7a2ffa3d-0a83-48a2-8930-d1029a580c77\">\n",
              "    <div class=\"colab-df-container\">\n",
              "      <div>\n",
              "<style scoped>\n",
              "    .dataframe tbody tr th:only-of-type {\n",
              "        vertical-align: middle;\n",
              "    }\n",
              "\n",
              "    .dataframe tbody tr th {\n",
              "        vertical-align: top;\n",
              "    }\n",
              "\n",
              "    .dataframe thead th {\n",
              "        text-align: right;\n",
              "    }\n",
              "</style>\n",
              "<table border=\"1\" class=\"dataframe\">\n",
              "  <thead>\n",
              "    <tr style=\"text-align: right;\">\n",
              "      <th></th>\n",
              "      <th>0</th>\n",
              "      <th>1</th>\n",
              "      <th>2</th>\n",
              "      <th>3</th>\n",
              "      <th>4</th>\n",
              "      <th>5</th>\n",
              "      <th>6</th>\n",
              "      <th>7</th>\n",
              "      <th>8</th>\n",
              "      <th>9</th>\n",
              "      <th>10</th>\n",
              "      <th>11</th>\n",
              "      <th>12</th>\n",
              "      <th>13</th>\n",
              "    </tr>\n",
              "  </thead>\n",
              "  <tbody>\n",
              "    <tr>\n",
              "      <th>Standard deviation</th>\n",
              "      <td>2.4330</td>\n",
              "      <td>1.3100</td>\n",
              "      <td>1.0222</td>\n",
              "      <td>0.9618</td>\n",
              "      <td>0.9401</td>\n",
              "      <td>0.9342</td>\n",
              "      <td>0.8829</td>\n",
              "      <td>0.8524</td>\n",
              "      <td>0.8410</td>\n",
              "      <td>0.5142</td>\n",
              "      <td>0.2665</td>\n",
              "      <td>0.2026</td>\n",
              "      <td>0.1592</td>\n",
              "      <td>0.1525</td>\n",
              "    </tr>\n",
              "    <tr>\n",
              "      <th>Proportion of variance</th>\n",
              "      <td>0.4228</td>\n",
              "      <td>0.1226</td>\n",
              "      <td>0.0746</td>\n",
              "      <td>0.0661</td>\n",
              "      <td>0.0631</td>\n",
              "      <td>0.0623</td>\n",
              "      <td>0.0557</td>\n",
              "      <td>0.0519</td>\n",
              "      <td>0.0505</td>\n",
              "      <td>0.0189</td>\n",
              "      <td>0.0051</td>\n",
              "      <td>0.0029</td>\n",
              "      <td>0.0018</td>\n",
              "      <td>0.0017</td>\n",
              "    </tr>\n",
              "    <tr>\n",
              "      <th>Cumulative proportion</th>\n",
              "      <td>0.4228</td>\n",
              "      <td>0.5454</td>\n",
              "      <td>0.6200</td>\n",
              "      <td>0.6861</td>\n",
              "      <td>0.7492</td>\n",
              "      <td>0.8115</td>\n",
              "      <td>0.8672</td>\n",
              "      <td>0.9191</td>\n",
              "      <td>0.9696</td>\n",
              "      <td>0.9885</td>\n",
              "      <td>0.9936</td>\n",
              "      <td>0.9965</td>\n",
              "      <td>0.9983</td>\n",
              "      <td>1.0000</td>\n",
              "    </tr>\n",
              "  </tbody>\n",
              "</table>\n",
              "</div>\n",
              "      <button class=\"colab-df-convert\" onclick=\"convertToInteractive('df-7a2ffa3d-0a83-48a2-8930-d1029a580c77')\"\n",
              "              title=\"Convert this dataframe to an interactive table.\"\n",
              "              style=\"display:none;\">\n",
              "        \n",
              "  <svg xmlns=\"http://www.w3.org/2000/svg\" height=\"24px\"viewBox=\"0 0 24 24\"\n",
              "       width=\"24px\">\n",
              "    <path d=\"M0 0h24v24H0V0z\" fill=\"none\"/>\n",
              "    <path d=\"M18.56 5.44l.94 2.06.94-2.06 2.06-.94-2.06-.94-.94-2.06-.94 2.06-2.06.94zm-11 1L8.5 8.5l.94-2.06 2.06-.94-2.06-.94L8.5 2.5l-.94 2.06-2.06.94zm10 10l.94 2.06.94-2.06 2.06-.94-2.06-.94-.94-2.06-.94 2.06-2.06.94z\"/><path d=\"M17.41 7.96l-1.37-1.37c-.4-.4-.92-.59-1.43-.59-.52 0-1.04.2-1.43.59L10.3 9.45l-7.72 7.72c-.78.78-.78 2.05 0 2.83L4 21.41c.39.39.9.59 1.41.59.51 0 1.02-.2 1.41-.59l7.78-7.78 2.81-2.81c.8-.78.8-2.07 0-2.86zM5.41 20L4 18.59l7.72-7.72 1.47 1.35L5.41 20z\"/>\n",
              "  </svg>\n",
              "      </button>\n",
              "      \n",
              "  <style>\n",
              "    .colab-df-container {\n",
              "      display:flex;\n",
              "      flex-wrap:wrap;\n",
              "      gap: 12px;\n",
              "    }\n",
              "\n",
              "    .colab-df-convert {\n",
              "      background-color: #E8F0FE;\n",
              "      border: none;\n",
              "      border-radius: 50%;\n",
              "      cursor: pointer;\n",
              "      display: none;\n",
              "      fill: #1967D2;\n",
              "      height: 32px;\n",
              "      padding: 0 0 0 0;\n",
              "      width: 32px;\n",
              "    }\n",
              "\n",
              "    .colab-df-convert:hover {\n",
              "      background-color: #E2EBFA;\n",
              "      box-shadow: 0px 1px 2px rgba(60, 64, 67, 0.3), 0px 1px 3px 1px rgba(60, 64, 67, 0.15);\n",
              "      fill: #174EA6;\n",
              "    }\n",
              "\n",
              "    [theme=dark] .colab-df-convert {\n",
              "      background-color: #3B4455;\n",
              "      fill: #D2E3FC;\n",
              "    }\n",
              "\n",
              "    [theme=dark] .colab-df-convert:hover {\n",
              "      background-color: #434B5C;\n",
              "      box-shadow: 0px 1px 3px 1px rgba(0, 0, 0, 0.15);\n",
              "      filter: drop-shadow(0px 1px 2px rgba(0, 0, 0, 0.3));\n",
              "      fill: #FFFFFF;\n",
              "    }\n",
              "  </style>\n",
              "\n",
              "      <script>\n",
              "        const buttonEl =\n",
              "          document.querySelector('#df-7a2ffa3d-0a83-48a2-8930-d1029a580c77 button.colab-df-convert');\n",
              "        buttonEl.style.display =\n",
              "          google.colab.kernel.accessAllowed ? 'block' : 'none';\n",
              "\n",
              "        async function convertToInteractive(key) {\n",
              "          const element = document.querySelector('#df-7a2ffa3d-0a83-48a2-8930-d1029a580c77');\n",
              "          const dataTable =\n",
              "            await google.colab.kernel.invokeFunction('convertToInteractive',\n",
              "                                                     [key], {});\n",
              "          if (!dataTable) return;\n",
              "\n",
              "          const docLinkHtml = 'Like what you see? Visit the ' +\n",
              "            '<a target=\"_blank\" href=https://colab.research.google.com/notebooks/data_table.ipynb>data table notebook</a>'\n",
              "            + ' to learn more about interactive tables.';\n",
              "          element.innerHTML = '';\n",
              "          dataTable['output_type'] = 'display_data';\n",
              "          await google.colab.output.renderOutput(dataTable, element);\n",
              "          const docLink = document.createElement('div');\n",
              "          docLink.innerHTML = docLinkHtml;\n",
              "          element.appendChild(docLink);\n",
              "        }\n",
              "      </script>\n",
              "    </div>\n",
              "  </div>\n",
              "  "
            ]
          },
          "metadata": {},
          "execution_count": 7
        }
      ]
    },
    {
      "cell_type": "code",
      "source": [
        "pcsSummary1.columns = ['PC1', 'PC2','PC3','PC4','PC5', 'PC6','PC7','PC8','PC9', 'PC10','PC11','PC12','PC13', 'PC14']\n",
        "pcsSummary1"
      ],
      "metadata": {
        "colab": {
          "base_uri": "https://localhost:8080/",
          "height": 143
        },
        "id": "ACjQ0XmSV5_-",
        "outputId": "dc3116d7-3ab0-4861-8853-c236d55cf8b8"
      },
      "execution_count": null,
      "outputs": [
        {
          "output_type": "execute_result",
          "data": {
            "text/plain": [
              "                             PC1       PC2       PC3       PC4       PC5  \\\n",
              "Standard deviation      2.432957  1.310005  1.022245  0.961779  0.940055   \n",
              "Proportion of variance  0.422792  0.122575  0.074639  0.066071  0.063120   \n",
              "Cumulative proportion   0.422792  0.545367  0.620006  0.686077  0.749196   \n",
              "\n",
              "                             PC6       PC7       PC8       PC9      PC10  \\\n",
              "Standard deviation      0.934203  0.882949  0.852433  0.840994  0.514242   \n",
              "Proportion of variance  0.062336  0.055684  0.051901  0.050518  0.018888   \n",
              "Cumulative proportion   0.811533  0.867216  0.919118  0.969635  0.988524   \n",
              "\n",
              "                            PC11      PC12      PC13      PC14  \n",
              "Standard deviation      0.266499  0.202647  0.159195  0.152459  \n",
              "Proportion of variance  0.005073  0.002933  0.001810  0.001660  \n",
              "Cumulative proportion   0.993596  0.996530  0.998340  1.000000  "
            ],
            "text/html": [
              "\n",
              "  <div id=\"df-2df47135-1898-4abc-a1a7-3182c4d7de36\">\n",
              "    <div class=\"colab-df-container\">\n",
              "      <div>\n",
              "<style scoped>\n",
              "    .dataframe tbody tr th:only-of-type {\n",
              "        vertical-align: middle;\n",
              "    }\n",
              "\n",
              "    .dataframe tbody tr th {\n",
              "        vertical-align: top;\n",
              "    }\n",
              "\n",
              "    .dataframe thead th {\n",
              "        text-align: right;\n",
              "    }\n",
              "</style>\n",
              "<table border=\"1\" class=\"dataframe\">\n",
              "  <thead>\n",
              "    <tr style=\"text-align: right;\">\n",
              "      <th></th>\n",
              "      <th>PC1</th>\n",
              "      <th>PC2</th>\n",
              "      <th>PC3</th>\n",
              "      <th>PC4</th>\n",
              "      <th>PC5</th>\n",
              "      <th>PC6</th>\n",
              "      <th>PC7</th>\n",
              "      <th>PC8</th>\n",
              "      <th>PC9</th>\n",
              "      <th>PC10</th>\n",
              "      <th>PC11</th>\n",
              "      <th>PC12</th>\n",
              "      <th>PC13</th>\n",
              "      <th>PC14</th>\n",
              "    </tr>\n",
              "  </thead>\n",
              "  <tbody>\n",
              "    <tr>\n",
              "      <th>Standard deviation</th>\n",
              "      <td>2.432957</td>\n",
              "      <td>1.310005</td>\n",
              "      <td>1.022245</td>\n",
              "      <td>0.961779</td>\n",
              "      <td>0.940055</td>\n",
              "      <td>0.934203</td>\n",
              "      <td>0.882949</td>\n",
              "      <td>0.852433</td>\n",
              "      <td>0.840994</td>\n",
              "      <td>0.514242</td>\n",
              "      <td>0.266499</td>\n",
              "      <td>0.202647</td>\n",
              "      <td>0.159195</td>\n",
              "      <td>0.152459</td>\n",
              "    </tr>\n",
              "    <tr>\n",
              "      <th>Proportion of variance</th>\n",
              "      <td>0.422792</td>\n",
              "      <td>0.122575</td>\n",
              "      <td>0.074639</td>\n",
              "      <td>0.066071</td>\n",
              "      <td>0.063120</td>\n",
              "      <td>0.062336</td>\n",
              "      <td>0.055684</td>\n",
              "      <td>0.051901</td>\n",
              "      <td>0.050518</td>\n",
              "      <td>0.018888</td>\n",
              "      <td>0.005073</td>\n",
              "      <td>0.002933</td>\n",
              "      <td>0.001810</td>\n",
              "      <td>0.001660</td>\n",
              "    </tr>\n",
              "    <tr>\n",
              "      <th>Cumulative proportion</th>\n",
              "      <td>0.422792</td>\n",
              "      <td>0.545367</td>\n",
              "      <td>0.620006</td>\n",
              "      <td>0.686077</td>\n",
              "      <td>0.749196</td>\n",
              "      <td>0.811533</td>\n",
              "      <td>0.867216</td>\n",
              "      <td>0.919118</td>\n",
              "      <td>0.969635</td>\n",
              "      <td>0.988524</td>\n",
              "      <td>0.993596</td>\n",
              "      <td>0.996530</td>\n",
              "      <td>0.998340</td>\n",
              "      <td>1.000000</td>\n",
              "    </tr>\n",
              "  </tbody>\n",
              "</table>\n",
              "</div>\n",
              "      <button class=\"colab-df-convert\" onclick=\"convertToInteractive('df-2df47135-1898-4abc-a1a7-3182c4d7de36')\"\n",
              "              title=\"Convert this dataframe to an interactive table.\"\n",
              "              style=\"display:none;\">\n",
              "        \n",
              "  <svg xmlns=\"http://www.w3.org/2000/svg\" height=\"24px\"viewBox=\"0 0 24 24\"\n",
              "       width=\"24px\">\n",
              "    <path d=\"M0 0h24v24H0V0z\" fill=\"none\"/>\n",
              "    <path d=\"M18.56 5.44l.94 2.06.94-2.06 2.06-.94-2.06-.94-.94-2.06-.94 2.06-2.06.94zm-11 1L8.5 8.5l.94-2.06 2.06-.94-2.06-.94L8.5 2.5l-.94 2.06-2.06.94zm10 10l.94 2.06.94-2.06 2.06-.94-2.06-.94-.94-2.06-.94 2.06-2.06.94z\"/><path d=\"M17.41 7.96l-1.37-1.37c-.4-.4-.92-.59-1.43-.59-.52 0-1.04.2-1.43.59L10.3 9.45l-7.72 7.72c-.78.78-.78 2.05 0 2.83L4 21.41c.39.39.9.59 1.41.59.51 0 1.02-.2 1.41-.59l7.78-7.78 2.81-2.81c.8-.78.8-2.07 0-2.86zM5.41 20L4 18.59l7.72-7.72 1.47 1.35L5.41 20z\"/>\n",
              "  </svg>\n",
              "      </button>\n",
              "      \n",
              "  <style>\n",
              "    .colab-df-container {\n",
              "      display:flex;\n",
              "      flex-wrap:wrap;\n",
              "      gap: 12px;\n",
              "    }\n",
              "\n",
              "    .colab-df-convert {\n",
              "      background-color: #E8F0FE;\n",
              "      border: none;\n",
              "      border-radius: 50%;\n",
              "      cursor: pointer;\n",
              "      display: none;\n",
              "      fill: #1967D2;\n",
              "      height: 32px;\n",
              "      padding: 0 0 0 0;\n",
              "      width: 32px;\n",
              "    }\n",
              "\n",
              "    .colab-df-convert:hover {\n",
              "      background-color: #E2EBFA;\n",
              "      box-shadow: 0px 1px 2px rgba(60, 64, 67, 0.3), 0px 1px 3px 1px rgba(60, 64, 67, 0.15);\n",
              "      fill: #174EA6;\n",
              "    }\n",
              "\n",
              "    [theme=dark] .colab-df-convert {\n",
              "      background-color: #3B4455;\n",
              "      fill: #D2E3FC;\n",
              "    }\n",
              "\n",
              "    [theme=dark] .colab-df-convert:hover {\n",
              "      background-color: #434B5C;\n",
              "      box-shadow: 0px 1px 3px 1px rgba(0, 0, 0, 0.15);\n",
              "      filter: drop-shadow(0px 1px 2px rgba(0, 0, 0, 0.3));\n",
              "      fill: #FFFFFF;\n",
              "    }\n",
              "  </style>\n",
              "\n",
              "      <script>\n",
              "        const buttonEl =\n",
              "          document.querySelector('#df-2df47135-1898-4abc-a1a7-3182c4d7de36 button.colab-df-convert');\n",
              "        buttonEl.style.display =\n",
              "          google.colab.kernel.accessAllowed ? 'block' : 'none';\n",
              "\n",
              "        async function convertToInteractive(key) {\n",
              "          const element = document.querySelector('#df-2df47135-1898-4abc-a1a7-3182c4d7de36');\n",
              "          const dataTable =\n",
              "            await google.colab.kernel.invokeFunction('convertToInteractive',\n",
              "                                                     [key], {});\n",
              "          if (!dataTable) return;\n",
              "\n",
              "          const docLinkHtml = 'Like what you see? Visit the ' +\n",
              "            '<a target=\"_blank\" href=https://colab.research.google.com/notebooks/data_table.ipynb>data table notebook</a>'\n",
              "            + ' to learn more about interactive tables.';\n",
              "          element.innerHTML = '';\n",
              "          dataTable['output_type'] = 'display_data';\n",
              "          await google.colab.output.renderOutput(dataTable, element);\n",
              "          const docLink = document.createElement('div');\n",
              "          docLink.innerHTML = docLinkHtml;\n",
              "          element.appendChild(docLink);\n",
              "        }\n",
              "      </script>\n",
              "    </div>\n",
              "  </div>\n",
              "  "
            ]
          },
          "metadata": {},
          "execution_count": 8
        }
      ]
    },
    {
      "cell_type": "markdown",
      "source": [
        "ESTE ME INDICA EL NUMERO DE COMPONENTES PRINCIPALES  MINIMO EN DONDE LOS PRIMEROS 8 COMPONENTES  REPRESENTAN MAS DEL 91% DE LA VARIACION TOTAL ASOCIADA CON LAS 14 VARIABLES ORIGINALES."
      ],
      "metadata": {
        "id": "0PP3M9JEhZKb"
      }
    },
    {
      "cell_type": "code",
      "source": [
        "pcsSummary1.iloc[2,7]"
      ],
      "metadata": {
        "colab": {
          "base_uri": "https://localhost:8080/"
        },
        "id": "juK8G65ZxAgf",
        "outputId": "d2974d21-26c3-4721-fd4e-7bcbed8f1632"
      },
      "execution_count": null,
      "outputs": [
        {
          "output_type": "execute_result",
          "data": {
            "text/plain": [
              "0.9191177300003252"
            ]
          },
          "metadata": {},
          "execution_count": 9
        }
      ]
    },
    {
      "cell_type": "code",
      "source": [
        "B = 1-(pcsSummary1.iloc[1,0] + pcsSummary1.iloc[1,1]+pcsSummary1.iloc[1,2]+pcsSummary1.iloc[1,3]+pcsSummary1.iloc[1,4]+pcsSummary1.iloc[1,5]+pcsSummary1.iloc[1,6]+pcsSummary1.iloc[1,7])\n",
        "B"
      ],
      "metadata": {
        "colab": {
          "base_uri": "https://localhost:8080/"
        },
        "id": "e6Spww--1k2F",
        "outputId": "54b3183b-2f78-4136-e86f-0ff5ca242124"
      },
      "execution_count": null,
      "outputs": [
        {
          "output_type": "execute_result",
          "data": {
            "text/plain": [
              "0.08088226999967485"
            ]
          },
          "metadata": {},
          "execution_count": 12
        }
      ]
    },
    {
      "cell_type": "markdown",
      "source": [
        "Paso 2: Interprete cada componente principal en términos de las variables originales"
      ],
      "metadata": {
        "id": "r-_zgYoAaEZe"
      }
    },
    {
      "cell_type": "code",
      "source": [
        "pcsComponents_df = pd.DataFrame(pcs.components_.transpose(),columns=pcsSummary1.columns,\n",
        "                                index=ndf.iloc[:,:].columns\n",
        "                                )\n",
        "pcsComponents_df.iloc[:,:14]"
      ],
      "metadata": {
        "id": "SOfEXdF1vzp9",
        "colab": {
          "base_uri": "https://localhost:8080/",
          "height": 488
        },
        "outputId": "00ac6f19-eb52-418c-fb49-aa65ae120bfc"
      },
      "execution_count": null,
      "outputs": [
        {
          "output_type": "execute_result",
          "data": {
            "text/plain": [
              "          PC1       PC2       PC3       PC4       PC5       PC6       PC7  \\\n",
              "X1   0.165522  0.300782 -0.378350 -0.200527  0.034696 -0.078372  0.111243   \n",
              "X5   0.032787  0.071858 -0.869702  0.338702 -0.039097  0.070979 -0.078796   \n",
              "X12  0.372426 -0.190870 -0.034183 -0.064039  0.041161 -0.044041  0.008174   \n",
              "X13  0.383243 -0.174657 -0.001853  0.007370  0.083063 -0.028996 -0.032340   \n",
              "X14  0.388256 -0.126913  0.034706  0.060509  0.114167  0.098819 -0.121294   \n",
              "X15  0.391550 -0.120406  0.034038  0.074801  0.028588  0.014358  0.126436   \n",
              "X16  0.388498 -0.105950  0.033869  0.039638 -0.106943 -0.099053 -0.007607   \n",
              "X17  0.380660 -0.094216  0.018531 -0.070255 -0.164916  0.069785  0.007955   \n",
              "X18  0.135164  0.383274  0.173490  0.361363  0.226137  0.039815 -0.201097   \n",
              "X19  0.116790  0.408294  0.200803  0.346457  0.150515  0.407194 -0.279520   \n",
              "X20  0.128083  0.392273  0.122009  0.245276 -0.239276 -0.107949  0.785161   \n",
              "X21  0.116924  0.349522  0.062349 -0.094376 -0.579392 -0.499243 -0.462150   \n",
              "X22  0.113790  0.304070 -0.060589 -0.608828 -0.192774  0.603625  0.014634   \n",
              "X23  0.105499  0.323449 -0.050784 -0.367146  0.657484 -0.410774  0.025269   \n",
              "\n",
              "          PC8       PC9      PC10      PC11      PC12      PC13      PC14  \n",
              "X1  -0.049369 -0.821868 -0.029175 -0.006145  0.015718 -0.000441  0.003344  \n",
              "X5   0.028591  0.330127 -0.009017  0.000129 -0.001380  0.000137  0.001067  \n",
              "X12  0.009448  0.010290  0.566731  0.415924 -0.433046 -0.183839 -0.316545  \n",
              "X13 -0.135664  0.017387  0.386865  0.038416  0.344950  0.329662  0.645182  \n",
              "X14  0.092835 -0.018943  0.122842 -0.484649  0.495927 -0.086506 -0.527631  \n",
              "X15  0.039227  0.018909 -0.205285 -0.523241 -0.489417 -0.362301  0.346145  \n",
              "X16  0.049752  0.023434 -0.420011  0.068140 -0.249725  0.718303 -0.226759  \n",
              "X17  0.000137  0.058760 -0.488829  0.513516  0.338689 -0.427507  0.072341  \n",
              "X18 -0.749008  0.022982 -0.056548  0.047619 -0.069337 -0.044925 -0.084583  \n",
              "X19  0.577801 -0.112781  0.050850  0.147266 -0.068902  0.038965  0.124890  \n",
              "X20  0.069466  0.152607  0.144912  0.000161  0.124670  0.025454 -0.063100  \n",
              "X21  0.077734  0.098409  0.124087 -0.115821  0.001072 -0.080746  0.042282  \n",
              "X22 -0.163064  0.253914  0.060045 -0.099467 -0.069415  0.095178 -0.008548  \n",
              "X23  0.182468  0.315799 -0.099185  0.034974  0.027705 -0.017183  0.008316  "
            ],
            "text/html": [
              "\n",
              "  <div id=\"df-5f43eb49-161f-4354-8785-d5dc7c8e0e4a\">\n",
              "    <div class=\"colab-df-container\">\n",
              "      <div>\n",
              "<style scoped>\n",
              "    .dataframe tbody tr th:only-of-type {\n",
              "        vertical-align: middle;\n",
              "    }\n",
              "\n",
              "    .dataframe tbody tr th {\n",
              "        vertical-align: top;\n",
              "    }\n",
              "\n",
              "    .dataframe thead th {\n",
              "        text-align: right;\n",
              "    }\n",
              "</style>\n",
              "<table border=\"1\" class=\"dataframe\">\n",
              "  <thead>\n",
              "    <tr style=\"text-align: right;\">\n",
              "      <th></th>\n",
              "      <th>PC1</th>\n",
              "      <th>PC2</th>\n",
              "      <th>PC3</th>\n",
              "      <th>PC4</th>\n",
              "      <th>PC5</th>\n",
              "      <th>PC6</th>\n",
              "      <th>PC7</th>\n",
              "      <th>PC8</th>\n",
              "      <th>PC9</th>\n",
              "      <th>PC10</th>\n",
              "      <th>PC11</th>\n",
              "      <th>PC12</th>\n",
              "      <th>PC13</th>\n",
              "      <th>PC14</th>\n",
              "    </tr>\n",
              "  </thead>\n",
              "  <tbody>\n",
              "    <tr>\n",
              "      <th>X1</th>\n",
              "      <td>0.165522</td>\n",
              "      <td>0.300782</td>\n",
              "      <td>-0.378350</td>\n",
              "      <td>-0.200527</td>\n",
              "      <td>0.034696</td>\n",
              "      <td>-0.078372</td>\n",
              "      <td>0.111243</td>\n",
              "      <td>-0.049369</td>\n",
              "      <td>-0.821868</td>\n",
              "      <td>-0.029175</td>\n",
              "      <td>-0.006145</td>\n",
              "      <td>0.015718</td>\n",
              "      <td>-0.000441</td>\n",
              "      <td>0.003344</td>\n",
              "    </tr>\n",
              "    <tr>\n",
              "      <th>X5</th>\n",
              "      <td>0.032787</td>\n",
              "      <td>0.071858</td>\n",
              "      <td>-0.869702</td>\n",
              "      <td>0.338702</td>\n",
              "      <td>-0.039097</td>\n",
              "      <td>0.070979</td>\n",
              "      <td>-0.078796</td>\n",
              "      <td>0.028591</td>\n",
              "      <td>0.330127</td>\n",
              "      <td>-0.009017</td>\n",
              "      <td>0.000129</td>\n",
              "      <td>-0.001380</td>\n",
              "      <td>0.000137</td>\n",
              "      <td>0.001067</td>\n",
              "    </tr>\n",
              "    <tr>\n",
              "      <th>X12</th>\n",
              "      <td>0.372426</td>\n",
              "      <td>-0.190870</td>\n",
              "      <td>-0.034183</td>\n",
              "      <td>-0.064039</td>\n",
              "      <td>0.041161</td>\n",
              "      <td>-0.044041</td>\n",
              "      <td>0.008174</td>\n",
              "      <td>0.009448</td>\n",
              "      <td>0.010290</td>\n",
              "      <td>0.566731</td>\n",
              "      <td>0.415924</td>\n",
              "      <td>-0.433046</td>\n",
              "      <td>-0.183839</td>\n",
              "      <td>-0.316545</td>\n",
              "    </tr>\n",
              "    <tr>\n",
              "      <th>X13</th>\n",
              "      <td>0.383243</td>\n",
              "      <td>-0.174657</td>\n",
              "      <td>-0.001853</td>\n",
              "      <td>0.007370</td>\n",
              "      <td>0.083063</td>\n",
              "      <td>-0.028996</td>\n",
              "      <td>-0.032340</td>\n",
              "      <td>-0.135664</td>\n",
              "      <td>0.017387</td>\n",
              "      <td>0.386865</td>\n",
              "      <td>0.038416</td>\n",
              "      <td>0.344950</td>\n",
              "      <td>0.329662</td>\n",
              "      <td>0.645182</td>\n",
              "    </tr>\n",
              "    <tr>\n",
              "      <th>X14</th>\n",
              "      <td>0.388256</td>\n",
              "      <td>-0.126913</td>\n",
              "      <td>0.034706</td>\n",
              "      <td>0.060509</td>\n",
              "      <td>0.114167</td>\n",
              "      <td>0.098819</td>\n",
              "      <td>-0.121294</td>\n",
              "      <td>0.092835</td>\n",
              "      <td>-0.018943</td>\n",
              "      <td>0.122842</td>\n",
              "      <td>-0.484649</td>\n",
              "      <td>0.495927</td>\n",
              "      <td>-0.086506</td>\n",
              "      <td>-0.527631</td>\n",
              "    </tr>\n",
              "    <tr>\n",
              "      <th>X15</th>\n",
              "      <td>0.391550</td>\n",
              "      <td>-0.120406</td>\n",
              "      <td>0.034038</td>\n",
              "      <td>0.074801</td>\n",
              "      <td>0.028588</td>\n",
              "      <td>0.014358</td>\n",
              "      <td>0.126436</td>\n",
              "      <td>0.039227</td>\n",
              "      <td>0.018909</td>\n",
              "      <td>-0.205285</td>\n",
              "      <td>-0.523241</td>\n",
              "      <td>-0.489417</td>\n",
              "      <td>-0.362301</td>\n",
              "      <td>0.346145</td>\n",
              "    </tr>\n",
              "    <tr>\n",
              "      <th>X16</th>\n",
              "      <td>0.388498</td>\n",
              "      <td>-0.105950</td>\n",
              "      <td>0.033869</td>\n",
              "      <td>0.039638</td>\n",
              "      <td>-0.106943</td>\n",
              "      <td>-0.099053</td>\n",
              "      <td>-0.007607</td>\n",
              "      <td>0.049752</td>\n",
              "      <td>0.023434</td>\n",
              "      <td>-0.420011</td>\n",
              "      <td>0.068140</td>\n",
              "      <td>-0.249725</td>\n",
              "      <td>0.718303</td>\n",
              "      <td>-0.226759</td>\n",
              "    </tr>\n",
              "    <tr>\n",
              "      <th>X17</th>\n",
              "      <td>0.380660</td>\n",
              "      <td>-0.094216</td>\n",
              "      <td>0.018531</td>\n",
              "      <td>-0.070255</td>\n",
              "      <td>-0.164916</td>\n",
              "      <td>0.069785</td>\n",
              "      <td>0.007955</td>\n",
              "      <td>0.000137</td>\n",
              "      <td>0.058760</td>\n",
              "      <td>-0.488829</td>\n",
              "      <td>0.513516</td>\n",
              "      <td>0.338689</td>\n",
              "      <td>-0.427507</td>\n",
              "      <td>0.072341</td>\n",
              "    </tr>\n",
              "    <tr>\n",
              "      <th>X18</th>\n",
              "      <td>0.135164</td>\n",
              "      <td>0.383274</td>\n",
              "      <td>0.173490</td>\n",
              "      <td>0.361363</td>\n",
              "      <td>0.226137</td>\n",
              "      <td>0.039815</td>\n",
              "      <td>-0.201097</td>\n",
              "      <td>-0.749008</td>\n",
              "      <td>0.022982</td>\n",
              "      <td>-0.056548</td>\n",
              "      <td>0.047619</td>\n",
              "      <td>-0.069337</td>\n",
              "      <td>-0.044925</td>\n",
              "      <td>-0.084583</td>\n",
              "    </tr>\n",
              "    <tr>\n",
              "      <th>X19</th>\n",
              "      <td>0.116790</td>\n",
              "      <td>0.408294</td>\n",
              "      <td>0.200803</td>\n",
              "      <td>0.346457</td>\n",
              "      <td>0.150515</td>\n",
              "      <td>0.407194</td>\n",
              "      <td>-0.279520</td>\n",
              "      <td>0.577801</td>\n",
              "      <td>-0.112781</td>\n",
              "      <td>0.050850</td>\n",
              "      <td>0.147266</td>\n",
              "      <td>-0.068902</td>\n",
              "      <td>0.038965</td>\n",
              "      <td>0.124890</td>\n",
              "    </tr>\n",
              "    <tr>\n",
              "      <th>X20</th>\n",
              "      <td>0.128083</td>\n",
              "      <td>0.392273</td>\n",
              "      <td>0.122009</td>\n",
              "      <td>0.245276</td>\n",
              "      <td>-0.239276</td>\n",
              "      <td>-0.107949</td>\n",
              "      <td>0.785161</td>\n",
              "      <td>0.069466</td>\n",
              "      <td>0.152607</td>\n",
              "      <td>0.144912</td>\n",
              "      <td>0.000161</td>\n",
              "      <td>0.124670</td>\n",
              "      <td>0.025454</td>\n",
              "      <td>-0.063100</td>\n",
              "    </tr>\n",
              "    <tr>\n",
              "      <th>X21</th>\n",
              "      <td>0.116924</td>\n",
              "      <td>0.349522</td>\n",
              "      <td>0.062349</td>\n",
              "      <td>-0.094376</td>\n",
              "      <td>-0.579392</td>\n",
              "      <td>-0.499243</td>\n",
              "      <td>-0.462150</td>\n",
              "      <td>0.077734</td>\n",
              "      <td>0.098409</td>\n",
              "      <td>0.124087</td>\n",
              "      <td>-0.115821</td>\n",
              "      <td>0.001072</td>\n",
              "      <td>-0.080746</td>\n",
              "      <td>0.042282</td>\n",
              "    </tr>\n",
              "    <tr>\n",
              "      <th>X22</th>\n",
              "      <td>0.113790</td>\n",
              "      <td>0.304070</td>\n",
              "      <td>-0.060589</td>\n",
              "      <td>-0.608828</td>\n",
              "      <td>-0.192774</td>\n",
              "      <td>0.603625</td>\n",
              "      <td>0.014634</td>\n",
              "      <td>-0.163064</td>\n",
              "      <td>0.253914</td>\n",
              "      <td>0.060045</td>\n",
              "      <td>-0.099467</td>\n",
              "      <td>-0.069415</td>\n",
              "      <td>0.095178</td>\n",
              "      <td>-0.008548</td>\n",
              "    </tr>\n",
              "    <tr>\n",
              "      <th>X23</th>\n",
              "      <td>0.105499</td>\n",
              "      <td>0.323449</td>\n",
              "      <td>-0.050784</td>\n",
              "      <td>-0.367146</td>\n",
              "      <td>0.657484</td>\n",
              "      <td>-0.410774</td>\n",
              "      <td>0.025269</td>\n",
              "      <td>0.182468</td>\n",
              "      <td>0.315799</td>\n",
              "      <td>-0.099185</td>\n",
              "      <td>0.034974</td>\n",
              "      <td>0.027705</td>\n",
              "      <td>-0.017183</td>\n",
              "      <td>0.008316</td>\n",
              "    </tr>\n",
              "  </tbody>\n",
              "</table>\n",
              "</div>\n",
              "      <button class=\"colab-df-convert\" onclick=\"convertToInteractive('df-5f43eb49-161f-4354-8785-d5dc7c8e0e4a')\"\n",
              "              title=\"Convert this dataframe to an interactive table.\"\n",
              "              style=\"display:none;\">\n",
              "        \n",
              "  <svg xmlns=\"http://www.w3.org/2000/svg\" height=\"24px\"viewBox=\"0 0 24 24\"\n",
              "       width=\"24px\">\n",
              "    <path d=\"M0 0h24v24H0V0z\" fill=\"none\"/>\n",
              "    <path d=\"M18.56 5.44l.94 2.06.94-2.06 2.06-.94-2.06-.94-.94-2.06-.94 2.06-2.06.94zm-11 1L8.5 8.5l.94-2.06 2.06-.94-2.06-.94L8.5 2.5l-.94 2.06-2.06.94zm10 10l.94 2.06.94-2.06 2.06-.94-2.06-.94-.94-2.06-.94 2.06-2.06.94z\"/><path d=\"M17.41 7.96l-1.37-1.37c-.4-.4-.92-.59-1.43-.59-.52 0-1.04.2-1.43.59L10.3 9.45l-7.72 7.72c-.78.78-.78 2.05 0 2.83L4 21.41c.39.39.9.59 1.41.59.51 0 1.02-.2 1.41-.59l7.78-7.78 2.81-2.81c.8-.78.8-2.07 0-2.86zM5.41 20L4 18.59l7.72-7.72 1.47 1.35L5.41 20z\"/>\n",
              "  </svg>\n",
              "      </button>\n",
              "      \n",
              "  <style>\n",
              "    .colab-df-container {\n",
              "      display:flex;\n",
              "      flex-wrap:wrap;\n",
              "      gap: 12px;\n",
              "    }\n",
              "\n",
              "    .colab-df-convert {\n",
              "      background-color: #E8F0FE;\n",
              "      border: none;\n",
              "      border-radius: 50%;\n",
              "      cursor: pointer;\n",
              "      display: none;\n",
              "      fill: #1967D2;\n",
              "      height: 32px;\n",
              "      padding: 0 0 0 0;\n",
              "      width: 32px;\n",
              "    }\n",
              "\n",
              "    .colab-df-convert:hover {\n",
              "      background-color: #E2EBFA;\n",
              "      box-shadow: 0px 1px 2px rgba(60, 64, 67, 0.3), 0px 1px 3px 1px rgba(60, 64, 67, 0.15);\n",
              "      fill: #174EA6;\n",
              "    }\n",
              "\n",
              "    [theme=dark] .colab-df-convert {\n",
              "      background-color: #3B4455;\n",
              "      fill: #D2E3FC;\n",
              "    }\n",
              "\n",
              "    [theme=dark] .colab-df-convert:hover {\n",
              "      background-color: #434B5C;\n",
              "      box-shadow: 0px 1px 3px 1px rgba(0, 0, 0, 0.15);\n",
              "      filter: drop-shadow(0px 1px 2px rgba(0, 0, 0, 0.3));\n",
              "      fill: #FFFFFF;\n",
              "    }\n",
              "  </style>\n",
              "\n",
              "      <script>\n",
              "        const buttonEl =\n",
              "          document.querySelector('#df-5f43eb49-161f-4354-8785-d5dc7c8e0e4a button.colab-df-convert');\n",
              "        buttonEl.style.display =\n",
              "          google.colab.kernel.accessAllowed ? 'block' : 'none';\n",
              "\n",
              "        async function convertToInteractive(key) {\n",
              "          const element = document.querySelector('#df-5f43eb49-161f-4354-8785-d5dc7c8e0e4a');\n",
              "          const dataTable =\n",
              "            await google.colab.kernel.invokeFunction('convertToInteractive',\n",
              "                                                     [key], {});\n",
              "          if (!dataTable) return;\n",
              "\n",
              "          const docLinkHtml = 'Like what you see? Visit the ' +\n",
              "            '<a target=\"_blank\" href=https://colab.research.google.com/notebooks/data_table.ipynb>data table notebook</a>'\n",
              "            + ' to learn more about interactive tables.';\n",
              "          element.innerHTML = '';\n",
              "          dataTable['output_type'] = 'display_data';\n",
              "          await google.colab.output.renderOutput(dataTable, element);\n",
              "          const docLink = document.createElement('div');\n",
              "          docLink.innerHTML = docLinkHtml;\n",
              "          element.appendChild(docLink);\n",
              "        }\n",
              "      </script>\n",
              "    </div>\n",
              "  </div>\n",
              "  "
            ]
          },
          "metadata": {},
          "execution_count": 14
        }
      ]
    },
    {
      "cell_type": "code",
      "source": [
        "pcsComponents_df.PC1.idxmax()"
      ],
      "metadata": {
        "colab": {
          "base_uri": "https://localhost:8080/",
          "height": 36
        },
        "id": "_pKZlPpa0UBW",
        "outputId": "c1569dc1-362b-4492-f4a8-7b9c7e21224b"
      },
      "execution_count": null,
      "outputs": [
        {
          "output_type": "execute_result",
          "data": {
            "text/plain": [
              "'X15'"
            ],
            "application/vnd.google.colaboratory.intrinsic+json": {
              "type": "string"
            }
          },
          "metadata": {},
          "execution_count": 15
        }
      ]
    },
    {
      "cell_type": "code",
      "source": [
        "pcsComponents_df.PC1.nlargest(3)"
      ],
      "metadata": {
        "colab": {
          "base_uri": "https://localhost:8080/"
        },
        "id": "b55Di9Fr0kSR",
        "outputId": "9a61e873-90e2-41de-9dc1-387ad3205e33"
      },
      "execution_count": null,
      "outputs": [
        {
          "output_type": "execute_result",
          "data": {
            "text/plain": [
              "X15    0.391550\n",
              "X16    0.388498\n",
              "X14    0.388256\n",
              "Name: PC1, dtype: float64"
            ]
          },
          "metadata": {},
          "execution_count": 16
        }
      ]
    },
    {
      "cell_type": "code",
      "source": [
        "pcsComponents_df.PC8.idxmin()"
      ],
      "metadata": {
        "colab": {
          "base_uri": "https://localhost:8080/",
          "height": 36
        },
        "id": "qsFbJ8IT1N9D",
        "outputId": "92382eff-ff37-44fc-c882-f40cff08d36d"
      },
      "execution_count": null,
      "outputs": [
        {
          "output_type": "execute_result",
          "data": {
            "text/plain": [
              "'X18'"
            ],
            "application/vnd.google.colaboratory.intrinsic+json": {
              "type": "string"
            }
          },
          "metadata": {},
          "execution_count": 17
        }
      ]
    },
    {
      "cell_type": "code",
      "source": [
        "pcsComponents_df.PC8.nsmallest(3)"
      ],
      "metadata": {
        "colab": {
          "base_uri": "https://localhost:8080/"
        },
        "id": "pLeaiMwl1QYY",
        "outputId": "1b060850-2364-48dc-c637-4d26c12fc6a6"
      },
      "execution_count": null,
      "outputs": [
        {
          "output_type": "execute_result",
          "data": {
            "text/plain": [
              "X18   -0.749008\n",
              "X22   -0.163064\n",
              "X13   -0.135664\n",
              "Name: PC8, dtype: float64"
            ]
          },
          "metadata": {},
          "execution_count": 18
        }
      ]
    },
    {
      "cell_type": "markdown",
      "source": [
        "Paso 3: Identifique valores atípicos"
      ],
      "metadata": {
        "id": "1Wsl9R-naPEc"
      }
    },
    {
      "cell_type": "code",
      "source": [
        "PC_components = np.arange(pcs.n_components_) + 1\n",
        "#PC_components\n",
        "\n",
        "_ = sns.set(style = 'whitegrid', \n",
        "            font_scale = 1.2\n",
        "            )\n",
        "\n",
        "fig, ax = plt.subplots(figsize=(10, 7))\n",
        "\n",
        "_ = sns.barplot(x = PC_components, \n",
        "                y = pcs.explained_variance_ratio_, \n",
        "                color = 'b'\n",
        "                )\n",
        "\n",
        "_ = sns.lineplot(x = PC_components-1, \n",
        "                 y = np.cumsum(pcs.explained_variance_ratio_), \n",
        "                 color = 'black', \n",
        "                 linestyle = '-', \n",
        "                 linewidth = 2, \n",
        "                 marker = 'o', \n",
        "                 markersize = 8\n",
        "                 )\n",
        "\n",
        "plt.title('Scree Plot')\n",
        "plt.xlabel('N-th Principal Component')\n",
        "plt.ylabel('Variance Explained')\n",
        "plt.ylim(0, 1)\n",
        "plt.show()"
      ],
      "metadata": {
        "id": "y8b8JDkIaTMQ",
        "outputId": "5768a78f-e9a4-45fc-9cf7-70047327d300",
        "colab": {
          "base_uri": "https://localhost:8080/",
          "height": 469
        }
      },
      "execution_count": null,
      "outputs": [
        {
          "output_type": "display_data",
          "data": {
            "text/plain": [
              "<Figure size 720x504 with 1 Axes>"
            ],
            "image/png": "[encoded data removed]"
          },
          "metadata": {}
        }
      ]
    },
    {
      "cell_type": "markdown",
      "source": [
        "1. ¿Cuál es el número de componentes mínimo y por qué?\n",
        "* LOS PRIMEROS 8 COMPONENTES REPRESENTAN MAS DEL 91% DE LA VARIACION TOTAL\n",
        "ASOCIADA CON LAS 14 VARIABLES ORIGINALES\n",
        "2. ¿Cuál es la variación de los datos que representan esos componentes?\n",
        "* ES DEL 91.9% DE VARIACION DE LOS DATOS QUE REPRESENTAN ESOS COMPONENTES\n",
        "3. ¿Cuál es la pérdida de información después de realizar PCA?\n",
        "LA PERDIDA ES DEL 8.08% DE VARIAILIDAD EN LA INFORMACION\n",
        "4. De las variables originales, ¿Cuál tiene mayor y cuál tiene menor importancia en los componentes principales?\n",
        "* LA VARIABLE X15 (LA CANTIDAD DE ESTADO DE CUENTA DE JUNIO) ES LA QUE TIENE MAYOR IMPORTACIA  DE LOS COMPONENTES PRINCIPALES\n",
        "* LA VARIABLE  X12 (EL MONTO PAGADO EN SEPTIEMBRE) ES LA QUE TIENE MENOR IMPORTACIA  DE LOS COMPONENTES PRINCIPALES\n",
        "5. ¿Cuándo se recomienda realizar un PCA y qué beneficios ofrece para Machine Learning?\n",
        "* SE RECOMIENDA REALIZAR PCA CUANDO SE TIENEN UN GRAN VOLUMEN DE DATOS DEBIDO A QUE ESTE METODO NOS PERMITE  SIMPLIFICAR LA COMPLEJIDAD DE LOS ESPACIOS MUESTRALES CON MUCHAS DIMENCIONES A LA VEZ QUE SE CONCERVE LA INFORMACION,ES DECIR, PERMITE CONDENZAR  LA INFORMACION APORTADA POR MULTIPLES VARIABLES EN POCOS COMPONENTES.ESETE METODO PERMITE DISMINUIR EL TIEMPO NECESARIO PARA ENTRENAN AL MODELO, YA QUE ELIMINA LA CORRELACION ENTRE ENTIDADES UNA VEZ SE IMPLEMENTA EL PCA LOS COMPONENTES PRINCIPALES SON INDEPENDIENTES,MEJORA EL RENDIMIENTO DEL ALGORITMO QUITANDO LAS VARIABLES QUE NO CONTRIBULLEN A LA TOMA DE DECICIONES , MEJORA LA VISUALIZACION DE LOS DATOS PERMITIENDO ENTENDER DATOS CON MUCHAS DIMENCIONES Y ADEMAS PERMITE ENCONTRAR PATRONES EN UN GRAN VOLUMEN DE DATOS SIENDO ASI UNA AYUDA IDEAL PARA LOS MODELOS DE MACHINE LEARNING "
      ],
      "metadata": {
        "id": "iJYbcjKb03zr"
      }
    }
  ]
}