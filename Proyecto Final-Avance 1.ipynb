{
  "nbformat": 4,
  "nbformat_minor": 0,
  "metadata": {
    "colab": {
      "provenance": [],
      "include_colab_link": true
    },
    "kernelspec": {
      "name": "python3",
      "display_name": "Python 3"
    },
    "language_info": {
      "name": "python"
    }
  },
  "cells": [
    {
      "cell_type": "markdown",
      "metadata": {
        "id": "view-in-github",
        "colab_type": "text"
      },
      "source": [
        "<a href=\"https://colab.research.google.com/github/PosgradoMNA/actividades-del-projecto-equipo39/blob/main/Proyecto%20Final-Avance%201.ipynb\" target=\"_parent\"><img src=\"https://colab.research.google.com/assets/colab-badge.svg\" alt=\"Open In Colab\"/></a>"
      ]
    },
    {
      "cell_type": "markdown",
      "source": [
        "# Avance proyecto"
      ],
      "metadata": {
        "id": "NA5rsb-Z8UPn"
      }
    },
    {
      "cell_type": "markdown",
      "source": [
        "**1.El nombre que caracteriza el conjunto de datos.**\n",
        "*Correlación entre característica físicas y sensoriales con el hábito de fumar.*"
      ],
      "metadata": {
        "id": "pU4HLbzW8cw_"
      }
    },
    {
      "cell_type": "markdown",
      "source": [
        "**2.La organización que lo generó.**\n",
        "*Plataforma Kaggle por Qusay Al-Btoush.*\n"
      ],
      "metadata": {
        "id": "Tfz5pnRk8pco"
      }
    },
    {
      "cell_type": "markdown",
      "source": [
        "**3.Incluya un enlace de Internet donde se puedan descargar el base de datos en línea.**\n",
        "*https://www.kaggle.com/code/qusaybtoush1990/predict-smoking-status-accuracy-82-6/data*"
      ],
      "metadata": {
        "id": "2gRset0281Kd"
      }
    },
    {
      "cell_type": "markdown",
      "source": [
        "**4.Describe el conjunto de datos. ¿Qué datos contiene?**\n",
        "Toma dato de las características físicas (por mencionar algunos ejemplos: altura, edad, genero, peso y medidas) y las capacidades sensoriales (por mencionar algunos ejemplos: vista y oído),tambien estan presentes datos de examenes de sangre (Colesterol,trigliceriodos ,creatina, azucar en sangre ,hemoglobina)y datos de presion arterias sitolica y diastolica de más de mil personas, añadiendo como dato si fuman o no.\n"
      ],
      "metadata": {
        "id": "ORQGXceE866h"
      }
    },
    {
      "cell_type": "markdown",
      "source": [
        "**5.¿Cuáles son algunas de las preguntas de investigación que podría responder con estos datos? Enumere al menos OCHO (no responda las preguntas).**\n",
        "\n",
        "1. ¿Los datos sensoriales y físicos de una persona pueden determinar si es fumadora o no?\n",
        "\n",
        "2. ¿Existe alguna tendencia en cuanto a la edad y sexo de la persona?\n",
        "\n",
        "3. ¿Existe una diferencia significativa entre los datos de personas fumadores y las no fumadoras con respecto a su estado físico?\n",
        "\n",
        "4. ¿La caries dental de la población esta mayormente correlacionada por la edad o por el hábito de fumar?\n",
        "5. ¿Existe una correlacion entre el habito de fumar y la presion arterial alta o baja?\n",
        "\n",
        "6. ¿Existe una diferencia entre personas fumadora y no fumadoras respecto a su resusltados de examenes de sangre?\n",
        "\n",
        "7. ¿existe una correlacion entre el IMC (indice de masa corporal)de la persona y si es fumador o no?\n",
        "\n",
        "8. ¿Existe una diferencia significativa entre los datos de genero masculino o femenino y su tendeci a fumar?"
      ],
      "metadata": {
        "id": "V6ZDO34Y9BtO"
      }
    },
    {
      "cell_type": "markdown",
      "source": [
        "**6.¿Qué actor (empresa, sector de la sociedad, organismo descentralizado, gobierno, etc.) estaría interesado en las preguntas mencionadas que identificó?**\n",
        "\n",
        "1. El sector salud público y privado en general. (Dentistas, Nutricionistas, médicos generales, etc.\n",
        "\n",
        "2. Organizaciones que instruyen personas a realizar actividades físicas.\n",
        "3. Empresas tabacaleas.\n",
        "4. Laboratorios farmaceuticos.\n",
        "5. Fundaciones\n",
        "6. Organizaciones no gubernamentales (ONG)\n"
      ],
      "metadata": {
        "id": "K_LEJSTp9E2b"
      }
    }
  ]
}